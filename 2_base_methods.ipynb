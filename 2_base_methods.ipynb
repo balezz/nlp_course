{
 "cells": [
  {
   "cell_type": "markdown",
   "id": "ef89b4a7",
   "metadata": {},
   "source": [
    "# Базовые методы обработка текста"
   ]
  },
  {
   "cell_type": "markdown",
   "id": "d3638c33",
   "metadata": {},
   "source": [
    "Машинное представление текста на естественном языке; \n",
    "Предобработка текста: токенизация и сегментация; \n",
    "Нормализация слов: стеммеры, лемматизаторы, морфологические анализаторы; \n",
    "Векторные и матричные модели текстов; \n",
    "Обратный индекс Тf-idf; \n",
    "Регулярные выражения."
   ]
  },
  {
   "cell_type": "markdown",
   "id": "dd5cb46c",
   "metadata": {},
   "source": [
    "Предобработка текста: токенизация и нормализация. \n",
    "Библиотека Nltk.\n",
    "Векторное представление текста. Библиотека Sklearn."
   ]
  },
  {
   "cell_type": "code",
   "execution_count": null,
   "id": "bf96fd4d",
   "metadata": {},
   "outputs": [],
   "source": []
  }
 ],
 "metadata": {
  "kernelspec": {
   "display_name": "Python 3 (ipykernel)",
   "language": "python",
   "name": "python3"
  },
  "language_info": {
   "codemirror_mode": {
    "name": "ipython",
    "version": 3
   },
   "file_extension": ".py",
   "mimetype": "text/x-python",
   "name": "python",
   "nbconvert_exporter": "python",
   "pygments_lexer": "ipython3",
   "version": "3.7.13"
  }
 },
 "nbformat": 4,
 "nbformat_minor": 5
}
