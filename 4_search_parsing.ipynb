{
 "cells": [
  {
   "cell_type": "markdown",
   "id": "768e7ad6",
   "metadata": {},
   "source": [
    "# Информационный поиск и парсинг"
   ]
  },
  {
   "cell_type": "markdown",
   "id": "93a72efb",
   "metadata": {},
   "source": [
    "1) Регулярные выражения  \n",
    "Фразовые запросы и ранжированный информационный поиск;  \n",
    "Методы оценки качества поисковых машин.  \n",
    "Синтаксис составляющих и синтаксис зависимостей;  \n",
    "Контекстонезависимые грамматики;  \n",
    "Вероятностный подход к парсингу;  \n",
    "Лексикализованные вероятностные грамматики;  \n",
    "Применение парсинга в различных задачах."
   ]
  },
  {
   "cell_type": "markdown",
   "id": "8026e8fd",
   "metadata": {},
   "source": [
    "### 1) Регулярные выражения  "
   ]
  },
  {
   "cell_type": "markdown",
   "id": "23e04273",
   "metadata": {},
   "source": [
    "При работе с текстами часто приходится решать задачу поиска в тексте по шаблону, например в текстовом редакторе или в браузере. \n",
    "Формализуем задачу: задается текстовая строка длиной $N$ и шаблон длиной $M$, нужно найти индекс первого вхождения шаблона в текст. Большинство алгоритмов для этой задачи можно легко расширить, чтобы найти все вхождения\n",
    "шаблона в тексте, подсчитать количество вхождений шаблона в тексте или предоставить контекст (подстроки текста, окружающие каждое вхождение шаблона). Поиск подстроки - классическая задача, которая имеет множество интересных решений, ознакомиться с которыми можно в книге Р.Сэджвика Алгоритмы, 5.3. "
   ]
  },
  {
   "cell_type": "markdown",
   "id": "4c43f858",
   "metadata": {},
   "source": [
    "Однако сегодня мы поговорим о поиске на основании неполной информации об искомом образце. Все возможные слова, подходящие под искомый шаблон, задают язык искомых слов. Для поиска вхождений шаблона в заданном тексте используются регулярные выражения.  \n",
    "\n",
    "**Регулярное выражение** (regexp, регулярка) - это шаблон, сопоставляемый с искомой строкой слева направо. \n",
    "Регулярки описывают образцы с помощью трех простых, но мощных операций: \n",
    "- конкатенация,  \n",
    "- логическое или,  \n",
    "- замыкание.  \n",
    "\n",
    "Конкатенация позволяет определить язык (искомых слов) путем простой записи символов рядом друг с другом. Например, запись *AB* определяет язык *{AB}*, содержащий всего одно слово.  \n",
    "\n",
    "Логическое ИЛИ позволяет определить несколько слов в языке. Например, запись *AB|CD* означает что нужно искать слова *AB* или *CD*.  \n",
    "\n",
    "Замыкание позволяет повторять части образца произвольное число раз, в т.ч. ни разу. Например, регулярка AB*  задает слова {B, AB, AAB, AAAB ...} а регулярка *A\\*B* - *A, AB, ABB, ABBB, ...*  \n",
    "\n",
    "Для определения порядка подстановки используются круглые скобки. Например, выражение C(AC|B)D задает множество слов {CACD, CBD}, а регулярка (AB)* - {$\\in$ , AB, ABAB, ABABAB, ...} где $\\in$ - пустая строка.  "
   ]
  },
  {
   "cell_type": "markdown",
   "id": "320850f4",
   "metadata": {},
   "source": [
    "Стандартная библиотека содержит модуль re для работы с ASCII алфавитом. Для работы с Unicode алфавитом используется сторонний модуль regexp.   \n",
    "\n",
    "Метод match() объекта re.Pattern проверяет совпадение строки с регуляркой. Совпадением считается только соответствие шаблону начала строки. В результате возвращается объект re.Match, в котором содержатся span - (индекс начала, длина совпадения) и match - совпавшая строка. "
   ]
  },
  {
   "cell_type": "code",
   "execution_count": 1,
   "id": "daa2d111",
   "metadata": {},
   "outputs": [
    {
     "name": "stdout",
     "output_type": "stream",
     "text": [
      "<re.Match object; span=(0, 1), match='a'>\n",
      "<re.Match object; span=(0, 6), match='aaaaaa'>\n",
      "<re.Match object; span=(0, 0), match=''>\n",
      "<re.Match object; span=(0, 0), match=''>\n"
     ]
    }
   ],
   "source": [
    "import re\n",
    "\n",
    "p = re.compile('a*') # pattern\n",
    "sent = ['abababa',\n",
    "        'aaaaaab',\n",
    "        'bbbbbbb',\n",
    "        'bababab'\n",
    "       ]\n",
    "        \n",
    "for s in sent:\n",
    "    print(p.match(s))"
   ]
  },
  {
   "cell_type": "markdown",
   "id": "66bb7351",
   "metadata": {},
   "source": [
    "Также можно использовать top-level методы из модуля re. Шаблон можно не компилировать, достаточно указать символ r перед строкой с одинарными кавычками. "
   ]
  },
  {
   "cell_type": "code",
   "execution_count": 2,
   "id": "f79dc30a",
   "metadata": {},
   "outputs": [
    {
     "name": "stdout",
     "output_type": "stream",
     "text": [
      "<re.Match object; span=(0, 2), match='ab'>\n",
      "<re.Match object; span=(0, 1), match='a'>\n",
      "None\n",
      "None\n"
     ]
    }
   ],
   "source": [
    "for s in sent:\n",
    "    print(re.match(r'ab*', s))"
   ]
  },
  {
   "cell_type": "code",
   "execution_count": 3,
   "id": "71c1f777",
   "metadata": {},
   "outputs": [
    {
     "name": "stdout",
     "output_type": "stream",
     "text": [
      "<re.Match object; span=(0, 2), match='ab'>\n",
      "<re.Match object; span=(0, 1), match='a'>\n",
      "None\n",
      "<re.Match object; span=(1, 3), match='ab'>\n"
     ]
    }
   ],
   "source": [
    "# Метод search() ищет совпадения по всей строке.\n",
    "for s in sent:\n",
    "    print(re.search(r'ab*', s))"
   ]
  },
  {
   "cell_type": "markdown",
   "id": "2dd321b8",
   "metadata": {},
   "source": [
    "Задание: Напишите пример использования методов findall() и sub()."
   ]
  },
  {
   "cell_type": "markdown",
   "id": "61cb3b1f",
   "metadata": {},
   "source": [
    "Кроме того, в регулярках можно использовать метасимволы:  \n",
    ". - (dot) любой символ, кроме \\n"
   ]
  },
  {
   "cell_type": "code",
   "execution_count": 4,
   "id": "f4ac0129",
   "metadata": {},
   "outputs": [
    {
     "name": "stdout",
     "output_type": "stream",
     "text": [
      "<re.Match object; span=(0, 1), match='a'>\n",
      "<re.Match object; span=(0, 1), match='a'>\n",
      "<re.Match object; span=(0, 1), match='b'>\n",
      "<re.Match object; span=(0, 1), match='b'>\n"
     ]
    }
   ],
   "source": [
    "for s in sent:\n",
    "    print(re.match(r'.', s))"
   ]
  },
  {
   "cell_type": "markdown",
   "id": "6b02d45d",
   "metadata": {},
   "source": [
    "^ - (caret) начало строки"
   ]
  },
  {
   "cell_type": "code",
   "execution_count": 5,
   "id": "b5894eb9",
   "metadata": {},
   "outputs": [
    {
     "name": "stdout",
     "output_type": "stream",
     "text": [
      "None\n",
      "None\n",
      "<re.Match object; span=(0, 1), match='b'>\n",
      "<re.Match object; span=(0, 1), match='b'>\n"
     ]
    }
   ],
   "source": [
    "for s in sent:\n",
    "    print(re.match(r'^b', s))"
   ]
  },
  {
   "cell_type": "markdown",
   "id": "6f74861b",
   "metadata": {},
   "source": [
    "$ - конец строки"
   ]
  },
  {
   "cell_type": "code",
   "execution_count": 6,
   "id": "8336d649",
   "metadata": {},
   "outputs": [
    {
     "name": "stdout",
     "output_type": "stream",
     "text": [
      "<re.Match object; span=(6, 7), match='a'>\n",
      "None\n",
      "None\n",
      "None\n"
     ]
    }
   ],
   "source": [
    "for s in sent:\n",
    "    print(re.search(r'a$', s))"
   ]
  },
  {
   "cell_type": "markdown",
   "id": "32b04673",
   "metadata": {},
   "source": [
    "\\+ - не меньше одного вхождения, в отличии от *, который допускает ни одного."
   ]
  },
  {
   "cell_type": "code",
   "execution_count": 7,
   "id": "f5300a66",
   "metadata": {},
   "outputs": [
    {
     "name": "stdout",
     "output_type": "stream",
     "text": [
      "None\n",
      "None\n",
      "<re.Match object; span=(0, 7), match='bbbbbbb'>\n",
      "<re.Match object; span=(0, 1), match='b'>\n"
     ]
    }
   ],
   "source": [
    "for s in sent:\n",
    "    print(re.match(r'b+', s))"
   ]
  },
  {
   "cell_type": "markdown",
   "id": "0609e856",
   "metadata": {},
   "source": [
    "? - 0 или 1 вхождение"
   ]
  },
  {
   "cell_type": "code",
   "execution_count": 8,
   "id": "21b308d0",
   "metadata": {},
   "outputs": [
    {
     "name": "stdout",
     "output_type": "stream",
     "text": [
      "<re.Match object; span=(0, 2), match='ab'>\n",
      "<re.Match object; span=(0, 1), match='a'>\n",
      "None\n",
      "<re.Match object; span=(1, 3), match='ab'>\n"
     ]
    }
   ],
   "source": [
    "for s in sent:\n",
    "    print(re.search(r'ab?', s))"
   ]
  },
  {
   "cell_type": "markdown",
   "id": "96080344",
   "metadata": {},
   "source": [
    "{m} - определяет m количество вхождений"
   ]
  },
  {
   "cell_type": "code",
   "execution_count": 9,
   "id": "10f0e6c2",
   "metadata": {},
   "outputs": [
    {
     "name": "stdout",
     "output_type": "stream",
     "text": [
      "None\n",
      "None\n",
      "<re.Match object; span=(0, 3), match='bbb'>\n",
      "None\n"
     ]
    }
   ],
   "source": [
    "for s in sent:\n",
    "    print(re.search(r'b{3}', s))"
   ]
  },
  {
   "cell_type": "markdown",
   "id": "2e9518ce",
   "metadata": {},
   "source": [
    "{m,n} - количество вхождений от m до n"
   ]
  },
  {
   "cell_type": "code",
   "execution_count": 10,
   "id": "51473239",
   "metadata": {},
   "outputs": [
    {
     "name": "stdout",
     "output_type": "stream",
     "text": [
      "None\n",
      "None\n",
      "<re.Match object; span=(0, 5), match='bbbbb'>\n",
      "None\n"
     ]
    }
   ],
   "source": [
    "for s in sent:\n",
    "    print(re.search(r'b{3,5}', s))"
   ]
  },
  {
   "cell_type": "markdown",
   "id": "8e4c9168",
   "metadata": {},
   "source": [
    "{m,n}? - жадное (минимальное) количество вхождений от m до n"
   ]
  },
  {
   "cell_type": "code",
   "execution_count": 11,
   "id": "8adb4eda",
   "metadata": {},
   "outputs": [
    {
     "name": "stdout",
     "output_type": "stream",
     "text": [
      "None\n",
      "None\n",
      "<re.Match object; span=(0, 3), match='bbb'>\n",
      "None\n"
     ]
    }
   ],
   "source": [
    "for s in sent:\n",
    "    print(re.search(r'b{3,5}?', s))"
   ]
  },
  {
   "cell_type": "markdown",
   "id": "b59c4807",
   "metadata": {},
   "source": [
    "\\ - обратный слэш, экранирует спецсимволы"
   ]
  },
  {
   "cell_type": "code",
   "execution_count": 12,
   "id": "f94f7593",
   "metadata": {},
   "outputs": [
    {
     "data": {
      "text/plain": [
       "<re.Match object; span=(0, 1), match='*'>"
      ]
     },
     "execution_count": 12,
     "metadata": {},
     "output_type": "execute_result"
    }
   ],
   "source": [
    "s = '***'\n",
    "re.match(r'\\*', s)"
   ]
  },
  {
   "cell_type": "markdown",
   "id": "a08d7d68",
   "metadata": {},
   "source": [
    "[ ] - определяет множество символов"
   ]
  },
  {
   "cell_type": "code",
   "execution_count": 13,
   "id": "d1f0fe98",
   "metadata": {},
   "outputs": [
    {
     "name": "stdout",
     "output_type": "stream",
     "text": [
      "None\n",
      "<re.Match object; span=(0, 2), match='aa'>\n",
      "None\n",
      "<re.Match object; span=(0, 2), match='ba'>\n"
     ]
    }
   ],
   "source": [
    "for s in sent:\n",
    "    print(re.match(r'[ab]a', s))"
   ]
  },
  {
   "cell_type": "markdown",
   "id": "3ef18a22",
   "metadata": {},
   "source": [
    "[a-z] - определяет диапазон символов"
   ]
  },
  {
   "cell_type": "code",
   "execution_count": 15,
   "id": "2884f347",
   "metadata": {},
   "outputs": [
    {
     "data": {
      "text/plain": [
       "<re.Match object; span=(0, 1), match='b'>"
      ]
     },
     "execution_count": 15,
     "metadata": {},
     "output_type": "execute_result"
    }
   ],
   "source": [
    "s = 'bcde'\n",
    "re.match(r'[a-c]', s)"
   ]
  },
  {
   "cell_type": "code",
   "execution_count": 16,
   "id": "d7ece21b",
   "metadata": {},
   "outputs": [
    {
     "data": {
      "text/plain": [
       "<re.Match object; span=(0, 2), match='59'>"
      ]
     },
     "execution_count": 16,
     "metadata": {},
     "output_type": "execute_result"
    }
   ],
   "source": [
    "re.match(r'[0-5][0-9]', '59')"
   ]
  },
  {
   "cell_type": "code",
   "execution_count": null,
   "id": "23d4270a",
   "metadata": {},
   "outputs": [],
   "source": []
  },
  {
   "cell_type": "code",
   "execution_count": null,
   "id": "11d6d453",
   "metadata": {},
   "outputs": [],
   "source": []
  },
  {
   "cell_type": "code",
   "execution_count": null,
   "id": "85f88b88",
   "metadata": {},
   "outputs": [],
   "source": []
  },
  {
   "cell_type": "markdown",
   "id": "6418c0c2",
   "metadata": {},
   "source": []
  },
  {
   "cell_type": "markdown",
   "id": "ff614d73",
   "metadata": {},
   "source": [
    "Ссылки:  \n",
    "\n",
    "- Сэджвик Р. и др., Алгоритмы, \n",
    "- https://docs.python.org/3/library/re.html\n",
    "- https://docs.python.org/3/howto/regex.html\n",
    "- https://habr.com/ru/post/349860/"
   ]
  }
 ],
 "metadata": {
  "kernelspec": {
   "display_name": "Python 3 (ipykernel)",
   "language": "python",
   "name": "python3"
  },
  "language_info": {
   "codemirror_mode": {
    "name": "ipython",
    "version": 3
   },
   "file_extension": ".py",
   "mimetype": "text/x-python",
   "name": "python",
   "nbconvert_exporter": "python",
   "pygments_lexer": "ipython3",
   "version": "3.7.13"
  }
 },
 "nbformat": 4,
 "nbformat_minor": 5
}
