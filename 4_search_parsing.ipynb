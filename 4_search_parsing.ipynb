{
 "cells": [
  {
   "cell_type": "markdown",
   "id": "ef89b4a7",
   "metadata": {},
   "source": [
    "# Информационный поиск и парсинг"
   ]
  },
  {
   "cell_type": "markdown",
   "id": "d3638c33",
   "metadata": {},
   "source": [
    "Фразовые запросы и ранжированный информационный поиск; \n",
    "Методы оценки качества поисковых машин.\n",
    "Синтаксис составляющих и синтаксис зависимостей; \n",
    "Контекстонезависимые грамматики;\n",
    "Вероятностный подход к парсингу; \n",
    "Лексикализованные вероятностные грамматики; \n",
    "Применение парсинга в различных задачах."
   ]
  },
  {
   "cell_type": "markdown",
   "id": "67c7c363",
   "metadata": {},
   "source": [
    "Регулярные выражения. \n",
    "Модуль re."
   ]
  },
  {
   "cell_type": "code",
   "execution_count": null,
   "id": "bf96fd4d",
   "metadata": {},
   "outputs": [],
   "source": []
  }
 ],
 "metadata": {
  "kernelspec": {
   "display_name": "Python 3 (ipykernel)",
   "language": "python",
   "name": "python3"
  },
  "language_info": {
   "codemirror_mode": {
    "name": "ipython",
    "version": 3
   },
   "file_extension": ".py",
   "mimetype": "text/x-python",
   "name": "python",
   "nbconvert_exporter": "python",
   "pygments_lexer": "ipython3",
   "version": "3.7.13"
  }
 },
 "nbformat": 4,
 "nbformat_minor": 5
}
