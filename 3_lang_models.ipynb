{
 "cells": [
  {
   "cell_type": "markdown",
   "id": "8ae02171",
   "metadata": {},
   "source": [
    "# Тема 3. Языковые модели и тематическое моделирование"
   ]
  },
  {
   "cell_type": "markdown",
   "id": "349b344e",
   "metadata": {},
   "source": [
    "N-граммы и перплексия;  \n",
    "Применение языковых моделей: предсказание ввода, исправление ошибок правописания, распознавание речи, порождение текста;  \n",
    "Тематическое моделирование."
   ]
  },
  {
   "cell_type": "code",
   "execution_count": null,
   "id": "dd5964b0",
   "metadata": {},
   "outputs": [],
   "source": []
  }
 ],
 "metadata": {
  "kernelspec": {
   "display_name": "Python 3 (ipykernel)",
   "language": "python",
   "name": "python3"
  },
  "language_info": {
   "codemirror_mode": {
    "name": "ipython",
    "version": 3
   },
   "file_extension": ".py",
   "mimetype": "text/x-python",
   "name": "python",
   "nbconvert_exporter": "python",
   "pygments_lexer": "ipython3",
   "version": "3.7.13"
  }
 },
 "nbformat": 4,
 "nbformat_minor": 5
}
