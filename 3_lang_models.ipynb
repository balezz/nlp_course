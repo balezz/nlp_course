{
 "cells": [
  {
   "cell_type": "markdown",
   "id": "8ae02171",
   "metadata": {},
   "source": [
    "# Языковые модели"
   ]
  },
  {
   "cell_type": "markdown",
   "id": "349b344e",
   "metadata": {},
   "source": [
    "Векторные и матричные модели текстов;  \n",
    "\n",
    "N-граммы;  \n",
    "Перплексия;   \n",
    "Применение языковых моделей: предсказание ввода, исправление ошибок правописания, распознавание речи, порождение текста."
   ]
  },
  {
   "cell_type": "markdown",
   "id": "d3b7d63a",
   "metadata": {},
   "source": [
    "N-граммы; \n",
    "Перплексия; \n",
    "Библиотека Nltk."
   ]
  },
  {
   "cell_type": "code",
   "execution_count": null,
   "id": "dd5964b0",
   "metadata": {},
   "outputs": [],
   "source": []
  }
 ],
 "metadata": {
  "kernelspec": {
   "display_name": "Python 3 (ipykernel)",
   "language": "python",
   "name": "python3"
  },
  "language_info": {
   "codemirror_mode": {
    "name": "ipython",
    "version": 3
   },
   "file_extension": ".py",
   "mimetype": "text/x-python",
   "name": "python",
   "nbconvert_exporter": "python",
   "pygments_lexer": "ipython3",
   "version": "3.7.13"
  }
 },
 "nbformat": 4,
 "nbformat_minor": 5
}
