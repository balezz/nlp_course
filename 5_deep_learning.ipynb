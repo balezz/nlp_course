{
 "cells": [
  {
   "cell_type": "markdown",
   "id": "ef89b4a7",
   "metadata": {},
   "source": [
    "# Основы глубокого обучения "
   ]
  },
  {
   "cell_type": "markdown",
   "id": "d3638c33",
   "metadata": {},
   "source": [
    "1) Линейный softmax классификатор  \n",
    "2) Обучение линейного классфикатора.  \n",
    "3) Многослойный персептрон  и рекуррентные сети.  \n",
    "4) Анализ тональности."
   ]
  },
  {
   "cell_type": "markdown",
   "id": "61500133",
   "metadata": {},
   "source": [
    "### 1) Линейный softmax классификатор"
   ]
  },
  {
   "cell_type": "markdown",
   "id": "11aee3ef",
   "metadata": {},
   "source": [
    "Рассмотрим простой линейный классификатор текста, который позволяет определить, к какой из трех тем относится текст (автомобили, мода, компьютеры).  \n",
    "Пусть имеется словарь, содержащий набор $V$ слов естественного языка.  \n",
    "Вектор $X$ - числовое представление текста, в котором каждому индексу соответствует количество вхождений слова из словаря в этом тексте.  \n",
    "$W$ - матрица весов размерностью $(V, C)$, где $V$ - количество слов в словаре, $C$ - количество классов или тем.   \n",
    "В результате умножения вектора $X$ на матрицу $W$ получаем вектор $Z$, в котором каждому элементу соответствует некоторое число. Чем больше число, тем выше вероятность того, что текст принадлежит классу $C$.  \n",
    "Пример линейной классификации текста на три темы представлен на рисунке.    \n",
    "\n",
    "<img src='imgs/linear_class.jpg' width=640>  \n",
    "\n"
   ]
  },
  {
   "cell_type": "markdown",
   "id": "c83ceba9",
   "metadata": {},
   "source": [
    "Каждая строка матрицы $W$ умножается на вектор $X$ и результат суммируется. Первая строка отвечает за первый класс, т.е. значения элементов первой строки отражают насколько каждое слово релевантно первому классу. Аналогично со второй и третьей строкой, классов может быть произвольное количество.   \n",
    "Посмотрим внимательно на первую строку. Слова (авто, шина, двигатель) очень похожи на автомобильную тему, поэтому значения там положительные (не обязательно единицы, чем больше, тем выше соответствие). Слово (блок) не однозначно пренадлежит к авто-теме, поэтому там значение w будет ниже. Остальные слова однозначно не соответствуют авто-теме, поэтому там значения w меньше нуля.  \n",
    "Заметим, что в нашем примере слов немного и они сгруппированы в словаре по темам. В реальных задачах размер словаря составляет несколько десятков тысяч слов, часто перемешанных в произвольном порядке. "
   ]
  },
  {
   "cell_type": "markdown",
   "id": "104442a4",
   "metadata": {},
   "source": [
    "Числа в векторе $Z$ показывают, насколько сильно коррелирует векторное представление текста $X$ с каждой из строк матрицы $W$. Удобно перейти от этих чисел к распределению вероятностей, так чтобы каждый элемент соответствовал вероятности принадлежности текста к заданному классу, а сумма вероятностей равнялась единице.  \n",
    "Для этого используют преобразование softmax(z).  \n",
    "\n",
    "$$\\sigma (z)_{i}={\\frac {e^{z_{i}}}{\\displaystyle \\sum _{k\\mathop {=} 1}^{K}e^{z_{k}}}}$$"
   ]
  },
  {
   "cell_type": "code",
   "execution_count": 1,
   "id": "987a8068",
   "metadata": {},
   "outputs": [
    {
     "data": {
      "text/plain": [
       "array([0.02, 0.98, 0.  ])"
      ]
     },
     "execution_count": 1,
     "metadata": {},
     "output_type": "execute_result"
    }
   ],
   "source": [
    "import numpy as np\n",
    "np.set_printoptions(precision=2)\n",
    "\n",
    "def softmax(z):\n",
    "    e = np.exp(z)\n",
    "    return e / np.sum(e)\n",
    "\n",
    "softmax([-2, 2, -4])"
   ]
  },
  {
   "cell_type": "markdown",
   "id": "32bd05ee",
   "metadata": {},
   "source": [
    "### 2) Обучение линейного классфикатора"
   ]
  },
  {
   "cell_type": "markdown",
   "id": "6fc1e257",
   "metadata": {},
   "source": [
    "Возникает вопрос: как найти значения коэффициентов матрицы $W$? Вручную размечать слова было бы очень утомительно. Автоматический поиск лучших коэффициентов на размеченных данных называется **обучением** классификатора.   \n",
    "Для обучения нам нужно иметь достаточно большой корпус текстов (хотя бы >20), с размеченными классами.  Т.е. каждому вектору $X$ поставить в соответствие вектор $y$ например (0, 1, 0) который показывает пренадлежность ко второму классу.  \n",
    "Имея для каждого $X$ предсказанное распределение вероятностей $s$, мы можем посчитать значение функции потерь (loss), обычно это кросс-энтропия.  \n",
    "\n",
    "$${H} (s,y)=-\\sum _{c}y\\,\\log s(x)$$ \n",
    "\n",
    "С учетом того, что в размеченном векторе $y$ все значения кроме правильного класса равны 0, то кросс-энтропию можно легко посчитать просто взяв логарифм от предсказанной вероятности для правильного класса.  \n",
    "Если классификатор предсказывает правильному классу вероятность близкую к 1, то значение loss будет близко к нулю  \n",
    "$$-log(1) = 0$$\n",
    "Если классификатор предсказывает правильному классу низкую вероятность, например 0.1, то значение loss будет высоким.  \n",
    "$$-log(0.1)=2.7$$\n",
    "Таким образом, нам нужно найти такие значения весов матрицы $W$, при которых loss будет минимальным.  \n",
    "$$loss(X,y,W) \\to min $$\n",
    "Эта оптимизационная задача хорошо решается методом **backpropagation** (обратное распространение ошибки), разработанным в  1974 году независимо и одновременно Галушкиным А.И. и Полом Дж. Вербосом."
   ]
  },
  {
   "cell_type": "markdown",
   "id": "c5f749ed",
   "metadata": {},
   "source": [
    "Существует множество методов поиска оптимальных весов:  \n",
    "- случайный перебор (плохая идея);\n",
    "- стохастический градиентный спуск [SGD](https://ru.wikipedia.org/wiki/Стохастический_градиентный_спуск)  \n",
    "- Momentum SGD, RMS, Adam и [другие](https://cs231n.github.io/neural-networks-3/#sgd)"
   ]
  },
  {
   "cell_type": "markdown",
   "id": "0c37dbe3",
   "metadata": {},
   "source": [
    "### 3) Многослойный персептрон"
   ]
  },
  {
   "cell_type": "markdown",
   "id": "a9dbdb41",
   "metadata": {},
   "source": [
    "Простой линейный классификатор подходит для несложных задач классификации. Для выделения сложных зависимостей используют комбинацию из линейных и нелинейных функций. \n",
    "\n",
    "<img src='imgs/multilayer.jpg'>  \n",
    "\n",
    "Выход первого слоя - все тот же вектор $z$, является входом для следующего, нелинейного слоя.  \n",
    "Нелинейные слой - это функция активации, которая позволяет лучше решать задачу классификации. На практике часто используют:  \n",
    "- сигмоид;  \n",
    "- гиперболический тангенс;  \n",
    "- ReLU (Rectified Linear Unit) и ее модификации."
   ]
  },
  {
   "cell_type": "markdown",
   "id": "6d701471",
   "metadata": {},
   "source": [
    "<img src='imgs/nonlinear.png' width=640>"
   ]
  },
  {
   "cell_type": "markdown",
   "id": "a4d0f46c",
   "metadata": {},
   "source": [
    "### Рекуррентные сети."
   ]
  },
  {
   "cell_type": "markdown",
   "id": "c2fb7dd2",
   "metadata": {},
   "source": [
    "Как мы уже говорили выше, простая модель текста BagOfWords не учитывает порядок слов в предложении. Контекст очень важен для понимания смысла слов, поэтому для повышения качества классификации (и не только) нужен более продвинутый способ обработки текста. Рекуррентные нейросети - один из таких способов. \n",
    "\n",
    "<img src='imgs/rnn.jpg' width=640>"
   ]
  },
  {
   "cell_type": "markdown",
   "id": "1927c889",
   "metadata": {},
   "source": [
    "Каждый токен входного текста представляется в виде вектора $x_i$. Он стыкуется с некоторым начальным значением $h_0$ (обычно нулевым) и подается на вход линейного слоя $W$. Далее на нелинейный слой, опять линейный $H$ и результат в виде вектора $h_{t+1}$ стыкуется со следующим токеном $x_{t+1}$ и все повторяется по кругу. Важно понимать, что веса матриц $W$ и $H$ одинаковы для всех токенов. Обычно архитектуру RNN изображают более компактным способом.\n",
    "\n",
    "<img src='imgs/rnn_.jpg' width=640>\n",
    "\n",
    "Для обозначения конца петли в конце последовательности $X$ добавляют специальный токен $<END>$. Таким образом, в весах матриц $W$ и $H$ сохраняется информация о порядке расположения токенов."
   ]
  },
  {
   "cell_type": "markdown",
   "id": "7fab5363",
   "metadata": {},
   "source": [
    "Рекуррентные сети позволяют решать много других задач, например предсказание следующего слова в предложении (языковая модель). Выход $y$ в этом случае будет векторное представление предсказанного слова, той же размерности, что и $x$.  \n",
    "Например:  \n",
    "\n",
    "Было не холодно, дождь шел. Он был одет в **куртку**.  \n",
    "\n",
    "Было холодно, дождь не шел. Он был одет в **шубу**.   \n",
    "\n",
    "В зависимости от порядка слов, вероятность для слов куртка и шуба будет разной.  "
   ]
  },
  {
   "cell_type": "markdown",
   "id": "be6025d4",
   "metadata": {},
   "source": [
    "Более продвинутой рекуррентной архитектурой является LSTM (Long Short Term Memory), которая использует отдельные веса для хранения слов, расположенных рядом и расположенных далеко друг от друга.  \n",
    "Например:  \n",
    "\n",
    "Было холодно, дождь не шел. Мне повстречался человек, которого я принял за своего знакомого. Он был одет в **шубу**.   "
   ]
  },
  {
   "cell_type": "markdown",
   "id": "c55864d1",
   "metadata": {},
   "source": [
    "### 4) Обучение линейного классификатора на анализ тональности"
   ]
  },
  {
   "cell_type": "code",
   "execution_count": 2,
   "id": "2dbfbae8",
   "metadata": {},
   "outputs": [
    {
     "data": {
      "text/html": [
       "<div>\n",
       "<style scoped>\n",
       "    .dataframe tbody tr th:only-of-type {\n",
       "        vertical-align: middle;\n",
       "    }\n",
       "\n",
       "    .dataframe tbody tr th {\n",
       "        vertical-align: top;\n",
       "    }\n",
       "\n",
       "    .dataframe thead th {\n",
       "        text-align: right;\n",
       "    }\n",
       "</style>\n",
       "<table border=\"1\" class=\"dataframe\">\n",
       "  <thead>\n",
       "    <tr style=\"text-align: right;\">\n",
       "      <th></th>\n",
       "      <th>label</th>\n",
       "      <th>text</th>\n",
       "    </tr>\n",
       "  </thead>\n",
       "  <tbody>\n",
       "    <tr>\n",
       "      <th>0</th>\n",
       "      <td>neutral</td>\n",
       "      <td>Александр, тебе к лицу эта пушка :)\\n</td>\n",
       "    </tr>\n",
       "    <tr>\n",
       "      <th>1</th>\n",
       "      <td>positive</td>\n",
       "      <td>Скоро ты вернешься домой, грязный, не бритый н...</td>\n",
       "    </tr>\n",
       "    <tr>\n",
       "      <th>2</th>\n",
       "      <td>neutral</td>\n",
       "      <td>помниш...))</td>\n",
       "    </tr>\n",
       "    <tr>\n",
       "      <th>3</th>\n",
       "      <td>positive</td>\n",
       "      <td>Наши красавцы. 1:3 в первом периоде и 7:3 в ит...</td>\n",
       "    </tr>\n",
       "    <tr>\n",
       "      <th>4</th>\n",
       "      <td>neutral</td>\n",
       "      <td>20% усилий приносят 80% результата</td>\n",
       "    </tr>\n",
       "  </tbody>\n",
       "</table>\n",
       "</div>"
      ],
      "text/plain": [
       "      label                                               text\n",
       "0   neutral              Александр, тебе к лицу эта пушка :)\\n\n",
       "1  positive  Скоро ты вернешься домой, грязный, не бритый н...\n",
       "2   neutral                                        помниш...))\n",
       "3  positive  Наши красавцы. 1:3 в первом периоде и 7:3 в ит...\n",
       "4   neutral                 20% усилий приносят 80% результата"
      ]
     },
     "execution_count": 2,
     "metadata": {},
     "output_type": "execute_result"
    }
   ],
   "source": [
    "import pandas as pd\n",
    "df = pd.read_csv('texts/rusentiment_test.csv')\n",
    "df.head()"
   ]
  },
  {
   "cell_type": "code",
   "execution_count": 3,
   "id": "56e1ccbf",
   "metadata": {},
   "outputs": [],
   "source": [
    "import re\n",
    "from nltk.tokenize import RegexpTokenizer\n",
    "from nltk.stem import SnowballStemmer\n",
    "\n",
    "tokenizer = RegexpTokenizer(r'\\w+')\n",
    "stemmer = SnowballStemmer(\"russian\") \n",
    "\n",
    "text_corpus = df.text.to_list()\n",
    "tokens_corpus = [tokenizer.tokenize(text) for text in text_corpus]\n",
    "\n",
    "non_digit_pattern = re.compile('\\D')\n",
    "stem_corpus = []\n",
    "\n",
    "for text in tokens_corpus:\n",
    "    words = [t for t in text if non_digit_pattern.match(t)]\n",
    "    stem_tokens = [stemmer.stem(t) for t in words]\n",
    "    stem_corpus.append(stem_tokens)"
   ]
  },
  {
   "cell_type": "code",
   "execution_count": 4,
   "id": "4ad7a4b9",
   "metadata": {},
   "outputs": [
    {
     "data": {
      "text/plain": [
       "OneHotEncoder(categorical_features=None,\n",
       "              categories=[['', 'AWD', 'Adam', 'Amichi', 'Anastasia',\n",
       "                           'Angel_care', 'Antonio', 'Aviv', 'BBCOS', 'BBcos',\n",
       "                           'BYD', 'Baik', 'Band', 'Bansko', 'Beach', 'Blond',\n",
       "                           'Bowling', 'Brunette', 'Burnt', 'CHANEL', 'COLOR',\n",
       "                           'Cent', 'Centre', 'Club', 'Coachella', 'Coffin',\n",
       "                           'Credo', 'Custom', 'Cдела', 'D', ...]],\n",
       "              drop=None, dtype=<class 'numpy.float64'>, handle_unknown='ignore',\n",
       "              n_values=None, sparse=True)"
      ]
     },
     "execution_count": 4,
     "metadata": {},
     "output_type": "execute_result"
    }
   ],
   "source": [
    "from collections import Counter\n",
    "from sklearn.preprocessing import OneHotEncoder\n",
    "\n",
    "BoW = Counter()\n",
    "for text in stem_corpus:\n",
    "    BoW += Counter(text)\n",
    "\n",
    "vocab = sorted(BoW.keys())\n",
    "ohe_encoder = OneHotEncoder(categories=[vocab], handle_unknown='ignore')\n",
    "ohe_encoder.fit(np.array(vocab).reshape(-1, 1))"
   ]
  },
  {
   "cell_type": "code",
   "execution_count": 5,
   "id": "a5bc0f34",
   "metadata": {},
   "outputs": [],
   "source": [
    "import numpy as np\n",
    "\n",
    "\n",
    "def text_to_OHE(text):\n",
    "    tokens = tokenizer.tokenize(text)\n",
    "    words = [t for t in tokens if non_digit_pattern.match(t)]\n",
    "    stem_tokens = [stemmer.stem(t) for t in words]\n",
    "    text_array = np.array(stem_tokens).reshape(-1, 1)\n",
    "    ohe_array = ohe_encoder.transform(text_array).sum(axis=0)\n",
    "    return ohe_array\n",
    "\n",
    "def preprocess_labels(label):\n",
    "    if label == 'positive':\n",
    "        y = 0\n",
    "    elif label == 'negative':\n",
    "        y = 2\n",
    "    else:\n",
    "        y = 1\n",
    "    return y"
   ]
  },
  {
   "cell_type": "code",
   "execution_count": 6,
   "id": "4d871c99",
   "metadata": {},
   "outputs": [],
   "source": [
    "df['y'] = df.label.map(preprocess_labels)\n",
    "df['x'] = df.text.map(text_to_OHE)"
   ]
  },
  {
   "cell_type": "code",
   "execution_count": 7,
   "id": "2d8130fc",
   "metadata": {},
   "outputs": [
    {
     "name": "stderr",
     "output_type": "stream",
     "text": [
      "/opt/anaconda3/envs/deeppavlov/lib/python3.7/site-packages/sklearn/utils/fixes.py:223: DeprecationWarning: distutils Version classes are deprecated. Use packaging.version instead.\n",
      "  if _joblib.__version__ >= LooseVersion('0.12'):\n"
     ]
    },
    {
     "data": {
      "text/plain": [
       "SGDClassifier(alpha=0.0001, average=False, class_weight=None,\n",
       "              early_stopping=False, epsilon=0.1, eta0=0.0, fit_intercept=True,\n",
       "              l1_ratio=0.15, learning_rate='optimal', loss='hinge',\n",
       "              max_iter=1000, n_iter_no_change=5, n_jobs=None, penalty='l2',\n",
       "              power_t=0.5, random_state=None, shuffle=True, tol=0.001,\n",
       "              validation_fraction=0.1, verbose=0, warm_start=False)"
      ]
     },
     "execution_count": 7,
     "metadata": {},
     "output_type": "execute_result"
    }
   ],
   "source": [
    "from sklearn.preprocessing import StandardScaler\n",
    "from sklearn.pipeline import make_pipeline\n",
    "from sklearn.linear_model import SGDClassifier\n",
    "\n",
    "clf = SGDClassifier(max_iter=1000)\n",
    "\n",
    "Y = df.y\n",
    "X = np.stack(df.x.to_numpy()).reshape(len(Y), -1)\n",
    "\n",
    "clf.fit(X, Y)"
   ]
  },
  {
   "cell_type": "code",
   "execution_count": 8,
   "id": "dbb6275a",
   "metadata": {},
   "outputs": [
    {
     "data": {
      "text/plain": [
       "0.9986449864498645"
      ]
     },
     "execution_count": 8,
     "metadata": {},
     "output_type": "execute_result"
    }
   ],
   "source": [
    "clf.score(X, Y)"
   ]
  },
  {
   "cell_type": "code",
   "execution_count": 9,
   "id": "570763c6",
   "metadata": {},
   "outputs": [
    {
     "data": {
      "text/plain": [
       "array([1])"
      ]
     },
     "execution_count": 9,
     "metadata": {},
     "output_type": "execute_result"
    }
   ],
   "source": [
    "x_test = 'привет как дела'\n",
    "vec = text_to_OHE(x_test)\n",
    "clf.predict(vec)"
   ]
  },
  {
   "cell_type": "markdown",
   "id": "444ac955",
   "metadata": {},
   "source": [
    "Подключим результат к нашему чат боту"
   ]
  },
  {
   "cell_type": "code",
   "execution_count": 10,
   "id": "8101fb24",
   "metadata": {},
   "outputs": [],
   "source": [
    "def get_answer(msg):\n",
    "    vec = text_to_OHE(msg)\n",
    "    y = clf.predict(vec)\n",
    "    print(y)\n",
    "    if y == 0:\n",
    "        return 'Это хорошо'\n",
    "    elif y == 2:\n",
    "        return 'Это плохо'\n",
    "    else:\n",
    "        return 'Это нормально'"
   ]
  },
  {
   "cell_type": "code",
   "execution_count": 13,
   "id": "6bf20006",
   "metadata": {},
   "outputs": [
    {
     "name": "stdout",
     "output_type": "stream",
     "text": [
      "[0]\n"
     ]
    }
   ],
   "source": [
    "import telebot\n",
    "\n",
    "with open('texts/tlg_token.txt') as f:\n",
    "    TOKEN = f.read()\n",
    "\n",
    "bot = telebot.TeleBot(TOKEN) \n",
    "\n",
    "@bot.message_handler(content_types=['text'])\n",
    "def send_echo(message):\n",
    "    answer = get_answer(message.text)\n",
    "    \n",
    "    bot.send_message(message.chat.id, answer)\n",
    "\n",
    "bot.polling(none_stop=True)"
   ]
  }
 ],
 "metadata": {
  "kernelspec": {
   "display_name": "Python 3 (ipykernel)",
   "language": "python",
   "name": "python3"
  },
  "language_info": {
   "codemirror_mode": {
    "name": "ipython",
    "version": 3
   },
   "file_extension": ".py",
   "mimetype": "text/x-python",
   "name": "python",
   "nbconvert_exporter": "python",
   "pygments_lexer": "ipython3",
   "version": "3.7.13"
  }
 },
 "nbformat": 4,
 "nbformat_minor": 5
}
