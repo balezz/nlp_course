{
 "cells": [
  {
   "cell_type": "markdown",
   "id": "ef89b4a7",
   "metadata": {},
   "source": [
    "# Тематическое моделирование и генерация текстов"
   ]
  },
  {
   "cell_type": "markdown",
   "id": "d3638c33",
   "metadata": {},
   "source": [
    "Тематическое моделирование\n",
    "Генерация текстов.\n",
    "Системы автоматической генерации ответов на вопросы."
   ]
  },
  {
   "cell_type": "markdown",
   "id": "75c25894",
   "metadata": {},
   "source": [
    "Реферирование нескольких документов;\n",
    "Генерация текста на основе векторного представления."
   ]
  },
  {
   "cell_type": "code",
   "execution_count": null,
   "id": "bf96fd4d",
   "metadata": {},
   "outputs": [],
   "source": []
  }
 ],
 "metadata": {
  "kernelspec": {
   "display_name": "Python 3 (ipykernel)",
   "language": "python",
   "name": "python3"
  },
  "language_info": {
   "codemirror_mode": {
    "name": "ipython",
    "version": 3
   },
   "file_extension": ".py",
   "mimetype": "text/x-python",
   "name": "python",
   "nbconvert_exporter": "python",
   "pygments_lexer": "ipython3",
   "version": "3.7.13"
  }
 },
 "nbformat": 4,
 "nbformat_minor": 5
}
